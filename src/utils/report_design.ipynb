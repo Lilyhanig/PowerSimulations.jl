#' ---
#' title : Weave example
#' author : SIIP
#' date : Friday the 13th
#' ---



using PowerSimulations
using Plots

gr()

bar_plot(WEAVE_ARGS["res"])




stack_plot(WEAVE_ARGS["res"])




for (k,v) in WEAVE_ARGS["variables"]
display((WEAVE_ARGS["variables"])[k])
end



